{
 "cells": [
  {
   "cell_type": "markdown",
   "id": "mental-wagon",
   "metadata": {},
   "source": [
    "<h1 style=\"text-align:center\">Creación de modelo de analisis de sentimientos</h1>"
   ]
  },
  {
   "cell_type": "markdown",
   "id": "saved-conflict",
   "metadata": {},
   "source": [
    "### Iniciamos datos, constantes y módulos"
   ]
  },
  {
   "cell_type": "code",
   "execution_count": 2,
   "id": "earned-service",
   "metadata": {},
   "outputs": [
    {
     "name": "stdout",
     "output_type": "stream",
     "text": [
      "Versión de spark: 3.1.1\n",
      "Versión de sparknlp: 3.0.1\n"
     ]
    }
   ],
   "source": [
    "import os\n",
    "import sparknlp\n",
    "from sparknlp.annotator import *\n",
    "from sparknlp.base import *\n",
    "from pyspark.sql import functions as F\n",
    "\n",
    "spark = sparknlp.start()\n",
    "\n",
    "print(f\"Versión de spark: {spark.version}\")\n",
    "print(f\"Versión de sparknlp: {sparknlp.version()}\")"
   ]
  },
  {
   "cell_type": "code",
   "execution_count": 3,
   "id": "former-mountain",
   "metadata": {},
   "outputs": [],
   "source": [
    "MODEL_NAME = 'webinar-sentiment-dl-v2'\n",
    "LOGS_PATH = os.path.join('.', 'logs', MODEL_NAME)"
   ]
  },
  {
   "cell_type": "code",
   "execution_count": 4,
   "id": "animal-outline",
   "metadata": {},
   "outputs": [],
   "source": [
    "dataframe = spark \\\n",
    "    .read \\\n",
    "    .option(\"header\", True) \\\n",
    "    .option(\"delimiter\", \",\") \\\n",
    "    .csv(\"./data/archive/Tweets.csv\")"
   ]
  },
  {
   "cell_type": "markdown",
   "id": "opposed-experiment",
   "metadata": {},
   "source": [
    "### Creación de pipeline de entrenamiento"
   ]
  },
  {
   "cell_type": "code",
   "execution_count": 5,
   "id": "adjacent-craft",
   "metadata": {},
   "outputs": [
    {
     "name": "stdout",
     "output_type": "stream",
     "text": [
      "tfhub_use download started this may take some time.\n",
      "Approximate size to download 923.7 MB\n",
      "[OK!]\n"
     ]
    }
   ],
   "source": [
    "documentAssembler = DocumentAssembler()\\\n",
    "    .setInputCol(\"text\")\\\n",
    "    .setOutputCol(\"document\")\n",
    "\n",
    "use = UniversalSentenceEncoder.pretrained()\\\n",
    " .setInputCols([\"document\"])\\\n",
    " .setOutputCol(\"sentence_embeddings\")\n",
    "\n",
    "sentiment = ClassifierDLApproach() \\\n",
    "    .setInputCols([\"sentence_embeddings\"]) \\\n",
    "    .setOutputCol(\"sentiment\") \\\n",
    "    .setLabelColumn(\"airline_sentiment\") \\\n",
    "    .setEnableOutputLogs(True) \\\n",
    "    .setMaxEpochs(100) \\\n",
    "    .setOutputLogsPath(LOGS_PATH) \\\n",
    "    .setValidationSplit(.25)\n",
    "\n",
    "finisher = Finisher() \\\n",
    "    .setInputCols([\"sentiment\"])\\\n",
    "    .setOutputCols([\"result\"])\n"
   ]
  },
  {
   "cell_type": "code",
   "execution_count": 6,
   "id": "emerging-premium",
   "metadata": {},
   "outputs": [],
   "source": [
    "sentiment_pipeline = Pipeline(\n",
    "  stages=[\n",
    "      documentAssembler,\n",
    "      use,\n",
    "      sentiment,\n",
    "      finisher\n",
    "  ]\n",
    ")"
   ]
  },
  {
   "cell_type": "code",
   "execution_count": 7,
   "id": "electrical-organic",
   "metadata": {},
   "outputs": [
    {
     "name": "stdout",
     "output_type": "stream",
     "text": [
      "+-----------------+-----+\n",
      "|airline_sentiment|count|\n",
      "+-----------------+-----+\n",
      "|         positive| 2363|\n",
      "|          neutral| 3099|\n",
      "|         negative| 9170|\n",
      "+-----------------+-----+\n",
      "\n"
     ]
    }
   ],
   "source": [
    "dataframe = dataframe.select('text', 'airline_sentiment').where(F.col(\"text\").isNotNull())\n",
    "\n",
    "dataframe.groupBy('airline_sentiment').count().show()"
   ]
  },
  {
   "cell_type": "code",
   "execution_count": 8,
   "id": "centered-prime",
   "metadata": {},
   "outputs": [
    {
     "name": "stdout",
     "output_type": "stream",
     "text": [
      "+-----------------+-----+\n",
      "|airline_sentiment|count|\n",
      "+-----------------+-----+\n",
      "|         positive| 2363|\n",
      "|          neutral| 3099|\n",
      "|         negative| 2766|\n",
      "+-----------------+-----+\n",
      "\n"
     ]
    }
   ],
   "source": [
    "pos_df = dataframe.where(\"airline_sentiment = 'positive'\")\n",
    "neu_df = dataframe.where(\"airline_sentiment = 'neutral'\")\n",
    "neg_df = dataframe.where(\"airline_sentiment = 'negative'\")\n",
    "\n",
    "neg_df = neg_df.sample(0.3)\n",
    "\n",
    "dataframe = pos_df.union(neu_df).union(neg_df)\n",
    "\n",
    "dataframe.groupBy('airline_sentiment').count().show()"
   ]
  },
  {
   "cell_type": "code",
   "execution_count": 9,
   "id": "lovely-atlanta",
   "metadata": {},
   "outputs": [],
   "source": [
    "sentiment_model = sentiment_pipeline.fit(dataframe)"
   ]
  },
  {
   "cell_type": "code",
   "execution_count": 10,
   "id": "arctic-papua",
   "metadata": {},
   "outputs": [],
   "source": [
    "sentiment_model.stages[2].write().overwrite().save(f'./models/{MODEL_NAME}')"
   ]
  },
  {
   "cell_type": "markdown",
   "id": "molecular-virus",
   "metadata": {},
   "source": [
    "### Cargamos el modelo que entrenamos"
   ]
  },
  {
   "cell_type": "code",
   "execution_count": 22,
   "id": "interesting-gazette",
   "metadata": {},
   "outputs": [
    {
     "name": "stdout",
     "output_type": "stream",
     "text": [
      "tfhub_use download started this may take some time.\n",
      "Approximate size to download 923.7 MB\n",
      "[OK!]\n"
     ]
    }
   ],
   "source": [
    "document = DocumentAssembler()\\\n",
    "    .setInputCol(\"description\")\\\n",
    "    .setOutputCol(\"document\")\n",
    "\n",
    "use = UniversalSentenceEncoder.pretrained() \\\n",
    " .setInputCols([\"document\"])\\\n",
    " .setOutputCol(\"sentence_embeddings\")\n",
    "\n",
    "classsifierdl = ClassifierDLModel.load(f'./models/{MODEL_NAME}') \\\n",
    "  .setInputCols([\"sentence_embeddings\"])\\\n",
    "  .setOutputCol(\"class\")\n",
    "\n",
    "finisher = Finisher() \\\n",
    "    .setInputCols([\"class\"])\\\n",
    "    .setOutputCols([\"result\"])\n",
    "\n",
    "pipeline = Pipeline(\n",
    "    stages = [\n",
    "        document,\n",
    "        use,\n",
    "        classsifierdl,\n",
    "        finisher\n",
    "    ])"
   ]
  },
  {
   "cell_type": "code",
   "execution_count": null,
   "id": "looking-korea",
   "metadata": {},
   "outputs": [],
   "source": [
    "from pyspark.sql.types import StringType\n",
    "\n",
    "dfTest = spark.createDataFrame([\n",
    "    \"I am disappointed in the service you have given me\",\n",
    "    \"I loved traveling with you, thank you for everything\",\n",
    "    \"Maybe\"\n",
    "], StringType()).toDF(\"description\")"
   ]
  },
  {
   "cell_type": "code",
   "execution_count": 24,
   "id": "ambient-rwanda",
   "metadata": {},
   "outputs": [],
   "source": [
    "pipeline_trained = pipeline.fit(spark.createDataFrame([['']]).toDF(\"text\"))"
   ]
  },
  {
   "cell_type": "code",
   "execution_count": 26,
   "id": "every-halifax",
   "metadata": {},
   "outputs": [
    {
     "name": "stdout",
     "output_type": "stream",
     "text": [
      "+---------------------------------------------------+----------+\n",
      "|description                                        |result    |\n",
      "+---------------------------------------------------+----------+\n",
      "|I am disappointed in the service you have given me |[negative]|\n",
      "|I love traveling with you, thank you for everything|[positive]|\n",
      "+---------------------------------------------------+----------+\n",
      "\n"
     ]
    }
   ],
   "source": [
    "pipeline_trained.transform(dfTest).show(truncate=False)"
   ]
  },
  {
   "cell_type": "code",
   "execution_count": null,
   "id": "inappropriate-diesel",
   "metadata": {},
   "outputs": [],
   "source": []
  }
 ],
 "metadata": {
  "kernelspec": {
   "display_name": "conda_python3",
   "language": "python",
   "name": "conda_python3"
  },
  "language_info": {
   "codemirror_mode": {
    "name": "ipython",
    "version": 3
   },
   "file_extension": ".py",
   "mimetype": "text/x-python",
   "name": "python",
   "nbconvert_exporter": "python",
   "pygments_lexer": "ipython3",
   "version": "3.6.13"
  }
 },
 "nbformat": 4,
 "nbformat_minor": 5
}
