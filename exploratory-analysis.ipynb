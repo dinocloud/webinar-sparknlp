{
 "cells": [
  {
   "cell_type": "markdown",
   "id": "4c5bbed9",
   "metadata": {},
   "source": [
    "<h1 style=\"text-align:center\">Análisis exploratorio</h1>\n"
   ]
  },
  {
   "cell_type": "code",
   "execution_count": 2,
   "id": "542fb756",
   "metadata": {},
   "outputs": [
    {
     "name": "stdout",
     "output_type": "stream",
     "text": [
      "Versión de spark: 3.1.1\n",
      "Versión de sparknlp: 3.0.1\n"
     ]
    }
   ],
   "source": [
    "import sparknlp\n",
    "from sparknlp.annotator import *\n",
    "from sparknlp.base import *\n",
    "\n",
    "spark = sparknlp.start()\n",
    "\n",
    "print(f\"Versión de spark: {spark.version}\")\n",
    "print(f\"Versión de sparknlp: {sparknlp.version()}\")"
   ]
  },
  {
   "cell_type": "code",
   "execution_count": 3,
   "id": "f3c615e4",
   "metadata": {},
   "outputs": [],
   "source": [
    "dataframe = spark \\\n",
    "    .read \\\n",
    "    .option(\"header\", True) \\\n",
    "    .csv(\"./archive/Tweets.csv\")"
   ]
  },
  {
   "cell_type": "code",
   "execution_count": 4,
   "id": "546ad420",
   "metadata": {},
   "outputs": [
    {
     "name": "stdout",
     "output_type": "stream",
     "text": [
      "==================== Estructura del dataset ====================\n",
      "\n",
      "Cantidad de registros: 14837\n",
      "\n",
      "Columnas:\n",
      "\n",
      "tweet_id\n",
      "airline_sentiment\n",
      "airline_sentiment_confidence\n",
      "negativereason\n",
      "negativereason_confidence\n",
      "airline\n",
      "airline_sentiment_gold\n",
      "name\n",
      "negativereason_gold\n",
      "retweet_count\n",
      "text\n",
      "tweet_coord\n",
      "tweet_created\n",
      "tweet_location\n",
      "user_timezone\n",
      "Cantidad de columnas: 15\n"
     ]
    }
   ],
   "source": [
    "print(\"==================== Estructura del dataset ====================\", end=\"\\n\\n\")\n",
    "\n",
    "print(f'Cantidad de registros: {dataframe.count()}', end=\"\\n\\n\")\n",
    "\n",
    "print('Columnas:', end=\"\\n\\n\")\n",
    "print(\"\\n\".join(dataframe.columns))\n",
    "\n",
    "print(f'Cantidad de columnas: {len(dataframe.columns)}')"
   ]
  },
  {
   "cell_type": "code",
   "execution_count": 5,
   "id": "5e751a80",
   "metadata": {},
   "outputs": [
    {
     "name": "stdout",
     "output_type": "stream",
     "text": [
      "-RECORD 0--------------------------------------------\n",
      " tweet_id                     | 570306133677760513   \n",
      " airline_sentiment            | neutral              \n",
      " airline_sentiment_confidence | 1.0                  \n",
      " negativereason               | null                 \n",
      " negativereason_confidence    | null                 \n",
      " airline                      | Virgin America       \n",
      " airline_sentiment_gold       | null                 \n",
      " name                         | cairdin              \n",
      " negativereason_gold          | null                 \n",
      " retweet_count                | 0                    \n",
      " text                         | @VirginAmerica Wh... \n",
      " tweet_coord                  | null                 \n",
      " tweet_created                | 2015-02-24 11:35:... \n",
      " tweet_location               | null                 \n",
      " user_timezone                | Eastern Time (US ... \n",
      "-RECORD 1--------------------------------------------\n",
      " tweet_id                     | 570301130888122368   \n",
      " airline_sentiment            | positive             \n",
      " airline_sentiment_confidence | 0.3486               \n",
      " negativereason               | null                 \n",
      " negativereason_confidence    | 0.0                  \n",
      " airline                      | Virgin America       \n",
      " airline_sentiment_gold       | null                 \n",
      " name                         | jnardino             \n",
      " negativereason_gold          | null                 \n",
      " retweet_count                | 0                    \n",
      " text                         | @VirginAmerica pl... \n",
      " tweet_coord                  | null                 \n",
      " tweet_created                | 2015-02-24 11:15:... \n",
      " tweet_location               | null                 \n",
      " user_timezone                | Pacific Time (US ... \n",
      "-RECORD 2--------------------------------------------\n",
      " tweet_id                     | 570301083672813571   \n",
      " airline_sentiment            | neutral              \n",
      " airline_sentiment_confidence | 0.6837               \n",
      " negativereason               | null                 \n",
      " negativereason_confidence    | null                 \n",
      " airline                      | Virgin America       \n",
      " airline_sentiment_gold       | null                 \n",
      " name                         | yvonnalynn           \n",
      " negativereason_gold          | null                 \n",
      " retweet_count                | 0                    \n",
      " text                         | @VirginAmerica I ... \n",
      " tweet_coord                  | null                 \n",
      " tweet_created                | 2015-02-24 11:15:... \n",
      " tweet_location               | Lets Play            \n",
      " user_timezone                | Central Time (US ... \n",
      "only showing top 3 rows\n",
      "\n"
     ]
    }
   ],
   "source": [
    "dataframe.show(3, vertical=True, truncate=True)"
   ]
  },
  {
   "cell_type": "code",
   "execution_count": null,
   "id": "04a48e25",
   "metadata": {},
   "outputs": [],
   "source": []
  }
 ],
 "metadata": {
  "kernelspec": {
   "display_name": "Python 3",
   "language": "python",
   "name": "python3"
  },
  "language_info": {
   "codemirror_mode": {
    "name": "ipython",
    "version": 3
   },
   "file_extension": ".py",
   "mimetype": "text/x-python",
   "name": "python",
   "nbconvert_exporter": "python",
   "pygments_lexer": "ipython3",
   "version": "3.9.2"
  }
 },
 "nbformat": 4,
 "nbformat_minor": 5
}
